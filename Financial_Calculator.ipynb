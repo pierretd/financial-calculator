{
  "nbformat": 4,
  "nbformat_minor": 0,
  "metadata": {
    "colab": {
      "name": "Financial Calculator.ipynb",
      "version": "0.3.2",
      "provenance": []
    },
    "kernelspec": {
      "display_name": "Python 3",
      "language": "python",
      "name": "python3"
    }
  },
  "cells": [
    {
      "metadata": {
        "id": "11ojWoDZZNwl",
        "colab_type": "code",
        "colab": {}
      },
      "cell_type": "code",
      "source": [
        "import math\n",
        "\n",
        "def check(d) :\n",
        "    check_set = set({})\n",
        "    for key in d.keys() :\n",
        "        if type(d[key]) == int :\n",
        "            check_set.add(key)\n",
        "        elif type(d[key]) == float :\n",
        "            check_set.add(key)\n",
        "    return check_set\n",
        "\n",
        "# Formula: PV = ( FV / ( 1 + RATE ) ^ NPER )\n",
        "# d represents the dictionary tvm_dict defined below\n",
        "def pv(d):\n",
        "    var_set = {'fv', 'rate', 'nper'}\n",
        "    if var_set.issubset(check(d)) :\n",
        "        return round(d['fv']/(1+d['rate'])**d['nper'],1)\n",
        "    else : \n",
        "        return 'Prent Value Calculation Error\\nYou must define the following variables: {}'.format(var_set)\n",
        "\n",
        "# Formula: FV = PV ( 1 + RATE ) ^ NPER\n",
        "def fv(d):\n",
        "    var_set = {'pv', 'rate', 'nper'}\n",
        "    if var_set.issubset(check(d)) :\n",
        "        return round(d['pv']*(1+d['rate'])**d['nper'],1)\n",
        "    else :\n",
        "        return 'Future Value Calculation Error\\nYou must define the following variables: {}'.format(var_set)\n",
        "\n",
        "# Formula: RATE = ( FV / PV ) ^ ( 1 / NPER )\n",
        "def rate(d):\n",
        "    var_set = {'fv', 'pv', 'nper'}\n",
        "    if var_set.issubset(check(d)) :\n",
        "        return round((d['fv']/d['pv'])**(1/d['nper'])-1,1)\n",
        "    else :\n",
        "        return 'RATE Calculation Error\\nYou must define the following variables: {}'.format(var_set)\n",
        "\n",
        "# Formula: NPER = ln ( FV / PV ) / ln ( 1 + RATE )\n",
        "def nper(d):\n",
        "    var_set = {'fv', 'pv', 'rate'}\n",
        "    if var_set.issubset(check(d)) :\n",
        "        return round(math.log(d['fv']/d['pv'])/math.log(1+d['rate']),1)\n",
        "    else :\n",
        "        return 'Number of Periods Calculation Error\\nYou must define the following variables: {}'.format(var_set)"
      ],
      "execution_count": 0,
      "outputs": []
    },
    {
      "metadata": {
        "id": "_bZgB51cZNw6",
        "colab_type": "code",
        "colab": {}
      },
      "cell_type": "code",
      "source": [
        "# Run this code cell to reset all variables\n",
        "present_value = None\n",
        "future_value = None\n",
        "discount_rate = None\n",
        "number_of_periods = None\n",
        "\n",
        "tvm_dict = {\n",
        "    'pv' : present_value,\n",
        "    'fv' : future_value,\n",
        "    'rate' : discount_rate,\n",
        "    'nper' : number_of_periods\n",
        "}"
      ],
      "execution_count": 0,
      "outputs": []
    },
    {
      "metadata": {
        "id": "JXgjGci2ZNxK",
        "colab_type": "code",
        "colab": {}
      },
      "cell_type": "code",
      "source": [
        "# Set variables\n",
        "present_value = 100\n",
        "future_value = 8\n",
        "discount_rate = .5\n",
        "number_of_periods = 20\n",
        "\n",
        "# Create dictionary\n",
        "tvm_dict = {\n",
        "    'pv' : present_value,\n",
        "    'fv' : future_value,\n",
        "    'rate' : discount_rate,\n",
        "    'nper' : number_of_periods\n",
        "}"
      ],
      "execution_count": 0,
      "outputs": []
    },
    {
      "metadata": {
        "id": "QkYz1iOwZNxU",
        "colab_type": "code",
        "outputId": "3142793c-7780-4b15-fb9c-0e67e7b9dc5a",
        "colab": {}
      },
      "cell_type": "code",
      "source": [
        "# Test the Calculator\n",
        "print(pv(tvm_dict))\n",
        "print('---')\n",
        "print(fv(tvm_dict))\n",
        "print('---')\n",
        "print(rate(tvm_dict))\n",
        "print('---')\n",
        "print(nper(tvm_dict))"
      ],
      "execution_count": 0,
      "outputs": [
        {
          "output_type": "stream",
          "text": [
            "2.1\n",
            "---\n",
            "5766.5\n",
            "---\n",
            "0.0\n",
            "---\n",
            "0.4\n"
          ],
          "name": "stdout"
        }
      ]
    },
    {
      "metadata": {
        "id": "6zDKzKasZNxk",
        "colab_type": "code",
        "colab": {}
      },
      "cell_type": "code",
      "source": [
        ""
      ],
      "execution_count": 0,
      "outputs": []
    }
  ]
}
